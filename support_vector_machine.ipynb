{
  "nbformat": 4,
  "nbformat_minor": 0,
  "metadata": {
    "colab": {
      "name": "support_vector_machine.ipynb",
      "provenance": [],
      "authorship_tag": "ABX9TyO9diL9YPmfPt2Oh9Ona+rX",
      "include_colab_link": true
    },
    "kernelspec": {
      "name": "python3",
      "display_name": "Python 3"
    },
    "language_info": {
      "name": "python"
    }
  },
  "cells": [
    {
      "cell_type": "markdown",
      "metadata": {
        "id": "view-in-github",
        "colab_type": "text"
      },
      "source": [
        "<a href=\"https://colab.research.google.com/github/ithadisushmitha/FML/blob/main/support_vector_machine.ipynb\" target=\"_parent\"><img src=\"https://colab.research.google.com/assets/colab-badge.svg\" alt=\"Open In Colab\"/></a>"
      ]
    },
    {
      "cell_type": "code",
      "execution_count": 29,
      "metadata": {
        "id": "sDplLksRxa-c"
      },
      "outputs": [],
      "source": [
        "import pandas as pd\n",
        "from sklearn.model_selection import train_test_split\n",
        "from sklearn.svm import SVC\n",
        "from sklearn.metrics import confusion_matrix\n",
        "from sklearn.preprocessing import LabelEncoder\n"
      ]
    },
    {
      "cell_type": "code",
      "source": [
        "data = pd.read_csv('apples_and_oranges.csv')"
      ],
      "metadata": {
        "id": "5s5YCFk4z2GB"
      },
      "execution_count": 28,
      "outputs": []
    },
    {
      "cell_type": "code",
      "source": [
        "training_set,test_set = train_test_split(data,test_size=0.2,random_state=1)"
      ],
      "metadata": {
        "id": "8-WOwBVaz9MK"
      },
      "execution_count": 21,
      "outputs": []
    },
    {
      "cell_type": "code",
      "source": [
        "x_train = training_set.iloc[:,0:2].values  \n",
        "y_train = training_set.iloc[:,2].values  \n",
        "x_test = test_set.iloc[:,0:2].values  \n",
        "y_test = test_set.iloc[:,2].values  "
      ],
      "metadata": {
        "id": "UrYzMe3R2B5f"
      },
      "execution_count": 30,
      "outputs": []
    },
    {
      "cell_type": "code",
      "source": [
        "# fitting the data (train a model)\n",
        "classifier = SVC(kernel='rbf',random_state=1,C=1,gamma='auto')\n",
        "classifier.fit(x_train,y_train)"
      ],
      "metadata": {
        "colab": {
          "base_uri": "https://localhost:8080/"
        },
        "id": "_ZgRrSXZ2KK2",
        "outputId": "f784a99c-1d66-42f8-b9a9-7e19f4e75c9e"
      },
      "execution_count": 25,
      "outputs": [
        {
          "output_type": "execute_result",
          "data": {
            "text/plain": [
              "SVC(C=1, gamma='auto', random_state=1)"
            ]
          },
          "metadata": {},
          "execution_count": 25
        }
      ]
    },
    {
      "cell_type": "code",
      "source": [
        "# perform prediction on x_test data\n",
        "y_pred = classifier.predict(x_test)"
      ],
      "metadata": {
        "id": "gL3qh1GV21aO"
      },
      "execution_count": 15,
      "outputs": []
    },
    {
      "cell_type": "code",
      "source": [
        "# creating confusion matrix and accuracy calculation\n",
        "cm = confusion_matrix(y_test,y_pred)\n",
        "print(cm)\n",
        "accuracy = float(cm.diagonal().sum())/len(y_test)\n",
        "print('model accuracy is:',accuracy*100,'%')"
      ],
      "metadata": {
        "colab": {
          "base_uri": "https://localhost:8080/"
        },
        "id": "KyFrmoZp3Fpo",
        "outputId": "0d2ec62d-86aa-4dd6-aca3-97a9d7b4558f"
      },
      "execution_count": 16,
      "outputs": [
        {
          "output_type": "stream",
          "name": "stdout",
          "text": [
            "[[3 0]\n",
            " [1 4]]\n",
            "model accuracy is: 87.5 %\n"
          ]
        }
      ]
    }
  ]
}